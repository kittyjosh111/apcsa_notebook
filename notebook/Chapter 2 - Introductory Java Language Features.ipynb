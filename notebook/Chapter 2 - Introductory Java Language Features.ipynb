{
 "cells": [
  {
   "cell_type": "markdown",
   "metadata": {},
   "source": [
    "# Chapter 2 - Introductory Java Language Features"
   ]
  },
  {
   "cell_type": "markdown",
   "metadata": {},
   "source": [
    "## Packages and Classes\n",
    "---"
   ]
  },
  {
   "cell_type": "markdown",
   "metadata": {},
   "source": [
    "### A Sample Java class"
   ]
  },
  {
   "cell_type": "code",
   "execution_count": null,
   "metadata": {},
   "outputs": [],
   "source": [
    "/*  Computer class in Computer.java\n",
    "    Start with a comment with description of what the program does\n",
    " */\n",
    "import java.util.ArrayList;\n",
    "\n",
    "public class Computer {\n",
    "    private String cpu;\n",
    "    private int memory;\n",
    "    private ArrayList harddisks;\n",
    "\n",
    "    public Computer(String cpu, int memory, ArrayList harddisks) {\n",
    "        this.cpu = cpu;\n",
    "        this.memory = memory;\n",
    "        this.harddisks = harddisks;\n",
    "    }\n",
    "\n",
    "    public void show() {\n",
    "        System.out.println(\"This computer uses cpu of \" + cpu + \", has \" + memory + \"GB of memory, has \" + harddisks.size() + \" hard disks\");\n",
    "    }\n",
    "\n",
    "    public static void main(String[] args) {\n",
    "        ArrayList harddisks = new ArrayList();\n",
    "        harddisks.add(\"128GB SSD\");\n",
    "        harddisks.add(\"1TB HDD\");\n",
    "        Computer myComputer = new Computer(\"i7\", 16, harddisks);\n",
    "        myComputer.show();\n",
    "    }\n",
    "}\n",
    "\n",
    "// in a console, you compile the program first, by \"javac Computer.java\"\n",
    "// which produces the bytecode in a file called Computer.class\n",
    "// then, you run it by \"java Computer\"\n",
    "// in Jupyter Notebook, we simulate it by the following static method call\n",
    "Computer.main(null);"
   ]
  },
  {
   "cell_type": "markdown",
   "metadata": {},
   "source": [
    "## Types and Identifiers\n",
    "\n",
    "### Identifiers\n",
    "\n",
    "#### Valid identifiers"
   ]
  },
  {
   "cell_type": "code",
   "execution_count": null,
   "metadata": {},
   "outputs": [],
   "source": [
    "int a; // valid identifier\n",
    "double bankBalance; // valid\n",
    "String nameOfMyVeryFirstBelovedPet; //valid\n",
    "boolean IS_TOMORROW_GOING_TO_rain; //valid\n",
    "int _myPhone; //valid\n",
    "int _______myComputer; //valid"
   ]
  },
  {
   "cell_type": "markdown",
   "metadata": {},
   "source": [
    "#### Invalid identifiers"
   ]
  },
  {
   "cell_type": "code",
   "execution_count": null,
   "metadata": {},
   "outputs": [],
   "source": [
    "int 3a; //invalid; cannot start with a digit"
   ]
  },
  {
   "cell_type": "code",
   "execution_count": null,
   "metadata": {},
   "outputs": [],
   "source": [
    "int my phone; //invalid; cannot have space"
   ]
  },
  {
   "cell_type": "code",
   "execution_count": null,
   "metadata": {},
   "outputs": [],
   "source": [
    "int balance-of-my-account; //invalid, cannot have symbols other than underscore"
   ]
  },
  {
   "cell_type": "markdown",
   "metadata": {},
   "source": [
    "### Built-in Types\n",
    "\n",
    "- int\n",
    "- boolean\n",
    "- double\n",
    "\n",
    "(Note that primitive type char is not included in the AP Java subset.)\n",
    "\n",
    "#### Valid primitive type declaration and assignment"
   ]
  },
  {
   "cell_type": "code",
   "execution_count": null,
   "metadata": {},
   "outputs": [],
   "source": [
    "// valid declaration and assignment\n",
    "int x;\n",
    "double y, z;\n",
    "boolean found;\n",
    "int count = 1;\n",
    "double p = 2.3, q = 4.1;\n",
    "int a = 9, b;"
   ]
  },
  {
   "cell_type": "markdown",
   "metadata": {},
   "source": [
    "#### Invalid primitive assignment"
   ]
  },
  {
   "cell_type": "code",
   "execution_count": null,
   "metadata": {},
   "outputs": [],
   "source": [
    "int z = 2.3; // invalid; assigning a floating point number to an int type"
   ]
  },
  {
   "cell_type": "code",
   "execution_count": null,
   "metadata": {},
   "outputs": [],
   "source": [
    "boolean isHot = 1; // invalid; assigning an int to boolean type"
   ]
  },
  {
   "cell_type": "markdown",
   "metadata": {},
   "source": [
    "#### However, you can assign an integer number to a double type:"
   ]
  },
  {
   "cell_type": "code",
   "execution_count": null,
   "metadata": {},
   "outputs": [],
   "source": [
    "double wholeNumber = 234; // valid\n",
    "double anotherWholeNumber = 234.0;\n",
    "System.out.println(wholeNumber == anotherWholeNumber); // test if these 2 variables are equal"
   ]
  },
  {
   "cell_type": "markdown",
   "metadata": {},
   "source": [
    "#### Casting\n",
    "\n",
    "- Cast an int to double"
   ]
  },
  {
   "cell_type": "code",
   "execution_count": null,
   "metadata": {},
   "outputs": [],
   "source": [
    "int totalClassScore = 8293, numberStudents = 100;\n",
    "double average = totalClassScore / numberStudents; // int divided by int => returns an int\n",
    "System.out.println(\"average score is \" + average);\n",
    "\n",
    "// need to cast at least one of the int operands to double \n",
    "double average2 = (double) totalClassScore / numberStudents; // cast totalClassScore to double\n",
    "System.out.println(\"average score 2 is \" + average2);\n",
    "\n",
    "double average3 = totalClassScore / (double) numberStudents; // cast numberStudents to double\n",
    "System.out.println(\"average score 3 is \" + average3);\n",
    "\n",
    "// this doesn't help\n",
    "double average4 = (double) (totalClassScore / numberStudents); // trying to cast quotient to double, but quotient is already int\n",
    "System.out.println(\"average score 4 is \" + average4);"
   ]
  },
  {
   "cell_type": "markdown",
   "metadata": {},
   "source": [
    "- Cast a double to int"
   ]
  },
  {
   "cell_type": "code",
   "execution_count": null,
   "metadata": {},
   "outputs": [],
   "source": [
    "double radius = 123.34;\n",
    "double diameter = radius * 2;\n",
    "\n",
    "int intRadius = (int) radius;\n",
    "int intDiameter = (int) diameter;\n",
    "System.out.println(\"radius is \" + radius + \"; diameter is \" + diameter);\n",
    "System.out.println(\"integer radius is \" + intRadius + \"; integer diameter is \" + intDiameter);"
   ]
  },
  {
   "cell_type": "markdown",
   "metadata": {},
   "source": [
    "Casting a double to int always rounds down. In order to achieve the typical rounding effect, you will add 0.5 to the **positive** double number (and minus 0.5 to the **negative** double number):"
   ]
  },
  {
   "cell_type": "code",
   "execution_count": null,
   "metadata": {},
   "outputs": [],
   "source": [
    "double radius = 123.34;\n",
    "double diameter = radius * 2;\n",
    "\n",
    "int intRadius = (int) (radius + 0.5);\n",
    "int intDiameter = (int) (diameter + 0.5);\n",
    "System.out.println(\"radius is \" + radius + \"; diameter is \" + diameter);\n",
    "System.out.println(\"integer radius is \" + intRadius + \"; integer diameter is \" + intDiameter);"
   ]
  },
  {
   "cell_type": "markdown",
   "metadata": {},
   "source": [
    "### Storage of primitives\n",
    "\n",
    "- bit: 0 or 1\n",
    "- boolean: true or false // 1 bit\n",
    "- byte: 8 bits\n",
    "- int: 32 bits or 4 bytes\n",
    "- float: 32 bits or 4 bytes\n",
    "- double: 64 bits or 8 bytes"
   ]
  },
  {
   "cell_type": "code",
   "execution_count": null,
   "metadata": {},
   "outputs": [],
   "source": [
    "int min = Integer.MIN_VALUE; // -2 to the 31st power\n",
    "int max = Integer.MAX_VALUE; // 2 to the 31st power - 1\n",
    "System.out.println(\"min int is \" + min + \"; max int is \" + max);"
   ]
  },
  {
   "cell_type": "markdown",
   "metadata": {},
   "source": [
    "Floating-point numbers - Loss of precision"
   ]
  },
  {
   "cell_type": "code",
   "execution_count": null,
   "metadata": {},
   "outputs": [],
   "source": [
    "double a = 0.1 * 26;\n",
    "double b = 0.1 \n",
    "           + 0.1\n",
    "           + 0.1\n",
    "           + 0.1\n",
    "           + 0.1\n",
    "           + 0.1\n",
    "           + 0.1\n",
    "           + 0.1\n",
    "           + 0.1\n",
    "           + 0.1\n",
    "           + 0.1\n",
    "           + 0.1\n",
    "           + 0.1\n",
    "           + 0.1\n",
    "           + 0.1\n",
    "           + 0.1\n",
    "           + 0.1\n",
    "           + 0.1\n",
    "           + 0.1\n",
    "           + 0.1\n",
    "           + 0.1\n",
    "           + 0.1\n",
    "           + 0.1\n",
    "           + 0.1\n",
    "           + 0.1\n",
    "           + 0.1;\n",
    "System.out.println(\"a=\" + a + \"; b=\" + b);"
   ]
  },
  {
   "cell_type": "markdown",
   "metadata": {},
   "source": [
    "NaN and Infinity\n",
    "Floating point operations do not throw exceptions"
   ]
  },
  {
   "cell_type": "code",
   "execution_count": null,
   "metadata": {},
   "outputs": [],
   "source": [
    "System.out.println(\"0.0 / 0.0 is \" + 0.0 / 0.0);\n",
    "System.out.println(\"123.0 / 0.0 is \" + 123.0 / 0.0);"
   ]
  },
  {
   "cell_type": "markdown",
   "metadata": {},
   "source": [
    "But int operation of division by zero is an error"
   ]
  },
  {
   "cell_type": "code",
   "execution_count": null,
   "metadata": {},
   "outputs": [],
   "source": [
    "123 / 0;"
   ]
  },
  {
   "cell_type": "markdown",
   "metadata": {},
   "source": [
    "### Final Variables"
   ]
  },
  {
   "cell_type": "code",
   "execution_count": null,
   "metadata": {},
   "outputs": [],
   "source": [
    "final int NUM_CLASSES = 9;\n",
    "final double PI;\n",
    "PI = 3.1415;"
   ]
  },
  {
   "cell_type": "code",
   "execution_count": 1,
   "metadata": {},
   "outputs": [],
   "source": [
    "//test"
   ]
  },
  {
   "cell_type": "code",
   "execution_count": null,
   "metadata": {},
   "outputs": [],
   "source": []
  }
 ],
 "metadata": {
  "kernelspec": {
   "display_name": "Java",
   "language": "java",
   "name": "java"
  },
  "language_info": {
   "codemirror_mode": "java",
   "file_extension": ".jshell",
   "mimetype": "text/x-java-source",
   "name": "Java",
   "pygments_lexer": "java",
   "version": "11.0.4+11-LTS"
  }
 },
 "nbformat": 4,
 "nbformat_minor": 2
}
